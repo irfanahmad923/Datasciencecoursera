{
 "cells": [
  {
   "cell_type": "markdown",
   "id": "e8f3e355-78b7-4c3b-a75a-7e9eebf4ea6f",
   "metadata": {},
   "source": [
    "# Data Science Tools and Ecosystem"
   ]
  },
  {
   "cell_type": "markdown",
   "id": "fae9ada7-d269-40e3-bcc3-1492d0a862c4",
   "metadata": {},
   "source": [
    "## Introduction\n",
    "In this notebook, Data Science Tools and Ecosystem are summarized."
   ]
  },
  {
   "cell_type": "markdown",
   "id": "b24df46c-ae04-4129-a73a-8bb93981f4df",
   "metadata": {},
   "source": [
    "# Data Science Languages\r\n",
    "\r\n",
    "Some of the popular languages that Data Scientists use are:\r\n",
    "\r\n",
    "1. **Python:** Widely used for its simplicity, versatility, and a rich ecosystem of libraries like NumPy, Pandas, and scikit-learn.\r\n",
    "\r\n",
    "2. **R:** Particularly popular in academia and research, R is known for its statistical computing and graphics capabilities.\r\n",
    "\r\n",
    "3. **SQL:** Essential for working with databases, Data Scientists often use SQL to extract, manipulate, and analyze data stored in relational databases.\r\n",
    "\r\n",
    "4. **Julia:** A high-performance language for technical computing, gaining popularity in the data science community for its speed and ease of use.\r\n"
   ]
  },
  {
   "cell_type": "markdown",
   "id": "00cf7d9b-cca9-4966-a612-c4f93a9b947a",
   "metadata": {},
   "source": [
    "# Data Science Libraries\r\n",
    "\r\n",
    "Some of the commonly used libraries by Data Scientists include:\r\n",
    "\r\n",
    "1. **NumPy:** A fundamental package for scientific computing with Python, providing support for large, multi-dimensional arrays and matrices.\r\n",
    "\r\n",
    "2. **Pandas:** A powerful library for data manipulation and analysis. It provides data structures like DataFrames, making it easy to work with structured data.\r\n",
    "\r\n",
    "3. **scikit-learn:** An open-source machine learning library that provides simple and efficient tools for data mining and data analysis. It is built on NumPy, SciPy, and Matplotlib.\r\n",
    "\r\n",
    "4. **Matplotlib:** A 2D plotting library for creating static, animated, and interactive visualizations in Python.\r\n",
    "\r\n",
    "5. **TensorFlow:** An open-source machine learning framework developed by the Google Brain team, widely used for building and training deep learning models.\r\n",
    "\r\n",
    "6. **PyTorch:** Another popular open-source machine learning library, known for its dynamic computational graph and ease of use, especially in the field of deep learning.\r\n"
   ]
  },
  {
   "cell_type": "markdown",
   "id": "93986c00-e5cc-450f-9707-45d0ba7ff4a9",
   "metadata": {},
   "source": [
    "# Data Science Tools\r\n",
    "\r\n",
    "| Data Science Tools |\r\n",
    "| ------------------ |\r\n",
    "| Jupyter Notebooks  |\r\n",
    "| RStudio            |\r\n",
    "| Spyder             |\r\n"
   ]
  },
  {
   "cell_type": "markdown",
   "id": "b4369ea0-c8b2-4137-a4da-05902bb4fb1d",
   "metadata": {},
   "source": [
    "### Examples of Evaluating Arithmetic Expressions in Python\r\n",
    "\r\n",
    "Below are a few examples of evaluating arithmetic expressions in Python:\r\n"
   ]
  },
  {
   "cell_type": "code",
   "execution_count": 2,
   "id": "5237e429-4c38-48cd-a013-6f0aa5874cf1",
   "metadata": {},
   "outputs": [
    {
     "data": {
      "text/plain": [
       "17"
      ]
     },
     "execution_count": 2,
     "metadata": {},
     "output_type": "execute_result"
    }
   ],
   "source": [
    "# This is a simple arithmetic expression to multiply then add integers.\n",
    "result = (3 * 4) + 5\n",
    "result\n"
   ]
  },
  {
   "cell_type": "code",
   "execution_count": 3,
   "id": "a51dabd5-023a-4023-992a-463e87b17462",
   "metadata": {},
   "outputs": [
    {
     "data": {
      "text/plain": [
       "3.3333333333333335"
      ]
     },
     "execution_count": 3,
     "metadata": {},
     "output_type": "execute_result"
    }
   ],
   "source": [
    "# This will convert 200 minutes to hours by dividing by 60.\n",
    "minutes = 200\n",
    "hours = minutes / 60\n",
    "hours\n"
   ]
  },
  {
   "cell_type": "markdown",
   "id": "5ff2c650-9319-4058-9df6-8d5a38afb190",
   "metadata": {},
   "source": [
    "**Objectives:**\n",
    "\n",
    "- Understand popular languages used in Data Science.\n",
    "- Explore commonly used libraries in Data Science.\n",
    "- Learn about development environment tools for Data Science.\n",
    "- Execute and understand basic arithmetic expressions in Python.\n",
    "- Apply knowledge of converting units, e.g., minutes to hours.\n"
   ]
  },
  {
   "cell_type": "markdown",
   "id": "079241ee-8e15-4a25-bf31-a16eb12e4fa9",
   "metadata": {},
   "source": [
    "## Author\n",
    "\n",
    "Irfan Ahmad\n"
   ]
  },
  {
   "cell_type": "code",
   "execution_count": null,
   "id": "92b68b56-27f9-403b-8e64-8f56f33f1d25",
   "metadata": {},
   "outputs": [],
   "source": []
  }
 ],
 "metadata": {
  "kernelspec": {
   "display_name": "Python 3 (ipykernel)",
   "language": "python",
   "name": "python3"
  },
  "language_info": {
   "codemirror_mode": {
    "name": "ipython",
    "version": 3
   },
   "file_extension": ".py",
   "mimetype": "text/x-python",
   "name": "python",
   "nbconvert_exporter": "python",
   "pygments_lexer": "ipython3",
   "version": "3.11.4"
  }
 },
 "nbformat": 4,
 "nbformat_minor": 5
}
